{
 "cells": [
  {
   "cell_type": "markdown",
   "metadata": {},
   "source": [
    "Stat/CS 5525: Homework 1\n",
    "\n",
    "Author:      Kazi Hasan Ibn Arif\n",
    "\n",
    "Student ID:  906614469\n",
    "\n",
    "Email:       hasanarif@vt.edu\n",
    "\n",
    "Date:        Sep 10, 2023"
   ]
  },
  {
   "cell_type": "markdown",
   "metadata": {},
   "source": [
    "Now I will train a liner regression model with the given dataset and compare the results with kNN classifier by showing training and testing error"
   ]
  },
  {
   "cell_type": "code",
   "execution_count": 16,
   "metadata": {},
   "outputs": [],
   "source": [
    "# load dataset\n",
    "import matplotlib.pyplot as plt\n",
    "import numpy as np\n",
    "from main import knn_classifer\n",
    "\n",
    "train = np.loadtxt('training.txt', delimiter=',')\n",
    "training_points = train[:, :2]\n",
    "training_labels = train[:, 2].astype(int)\n",
    "test_points = np.loadtxt('test.txt', delimiter=',')"
   ]
  },
  {
   "cell_type": "code",
   "execution_count": 17,
   "metadata": {},
   "outputs": [
    {
     "data": {
      "image/png": "[encoded data removed]",
      "text/plain": [
       "<Figure size 432x288 with 1 Axes>"
      ]
     },
     "metadata": {
      "needs_background": "light"
     },
     "output_type": "display_data"
    }
   ],
   "source": [
    "# comparing regression and knn classification with k = 5\n",
    "k = 5\n",
    "test_labels = knn_classifer(test_points, training_points, training_labels, k)\n",
    "plt.scatter(test_points[:, 0], test_points[:, 1], c=test_labels, cmap='bwr', marker='+')\n",
    "plt.title(f'knn classification with k = {k}')\n",
    "plt.show()"
   ]
  },
  {
   "cell_type": "code",
   "execution_count": 18,
   "metadata": {},
   "outputs": [
    {
     "data": {
      "image/png": "[encoded data removed]",
      "text/plain": [
       "<Figure size 432x288 with 1 Axes>"
      ]
     },
     "metadata": {
      "needs_background": "light"
     },
     "output_type": "display_data"
    }
   ],
   "source": [
    "# linear regression\n",
    "from sklearn.linear_model import LinearRegression\n",
    "linear_regression = LinearRegression()\n",
    "linear_regression.fit(training_points, training_labels)\n",
    "linear_regression_labels = linear_regression.predict(test_points)\n",
    "linear_regression_labels = (linear_regression_labels > 0.5).astype(int) # thresholding at 0.5\n",
    "plt.scatter(test_points[:, 0], test_points[:, 1], c=linear_regression_labels, cmap='bwr', marker='+')\n",
    "plt.title('Linear Regression')\n",
    "plt.show()"
   ]
  },
  {
   "cell_type": "markdown",
   "metadata": {},
   "source": [
    "comparing between kNN and linear regression"
   ]
  },
  {
   "cell_type": "code",
   "execution_count": 19,
   "metadata": {},
   "outputs": [
    {
     "name": "stdout",
     "output_type": "stream",
     "text": [
      "Training error: 0.07\n"
     ]
    }
   ],
   "source": [
    "# calculate training error of knn classifier\n",
    "train_labels = knn_classifer(training_points, training_points, training_labels, k)\n",
    "train_error = np.sum(train_labels != training_labels) / len(training_labels)\n",
    "print(f'Training error: {train_error}')\n"
   ]
  },
  {
   "cell_type": "code",
   "execution_count": 20,
   "metadata": {},
   "outputs": [
    {
     "name": "stdout",
     "output_type": "stream",
     "text": [
      "Training error: 1.0\n"
     ]
    }
   ],
   "source": [
    "# calculate training error of regression classifier\n",
    "train_labels = linear_regression.predict(training_points)\n",
    "train_error = np.sum(train_labels != training_labels) / len(training_labels)\n",
    "print(f'Training error: {train_error}')"
   ]
  },
  {
   "cell_type": "markdown",
   "metadata": {},
   "source": [
    "### Answer to the Problem 4\n",
    "\n",
    "The training error for kNN classifier is 0.07 and as we do not have label in the test label we can not calculate the testing error. The training error for linear regression is 1.0 and similar case for test errors. So, the KNN classifier model is better than the sklearn logistic regression model."
   ]
  },
  {
   "cell_type": "code",
   "execution_count": null,
   "metadata": {},
   "outputs": [],
   "source": []
  }
 ],
 "metadata": {
  "kernelspec": {
   "display_name": "Python 3",
   "language": "python",
   "name": "python3"
  },
  "language_info": {
   "codemirror_mode": {
    "name": "ipython",
    "version": 3
   },
   "file_extension": ".py",
   "mimetype": "text/x-python",
   "name": "python",
   "nbconvert_exporter": "python",
   "pygments_lexer": "ipython3",
   "version": "3.8.10"
  },
  "orig_nbformat": 4
 },
 "nbformat": 4,
 "nbformat_minor": 2
}
